                                                                                                                              {
 "cells": [
  {
   "cell_type": "code",
   "execution_count": null,
   "metadata": {},
   "outputs": [],
   "source": [
    "import os\n",
    "import pandas as pd\n",
    "import csv\n"
   ]
  },
  {
   "cell_type": "code",
   "execution_count": null,
   "metadata": {},
   "outputs": [],
   "source": [
    "# Read CSV\n",
    "\n",
    "data = pd.read_csv(r'C:\\Users\\tony duron\\mat-hw\\resources\\Mouse_metadata.csv')\n",
    "df = pd.DataFrame(data)\n",
    "\n",
    "results = pd.read_csv(r'C:\\Users\\tony duron\\mat-hw\\resources\\Study_results.csv')\n",
    "df1 = pd.DataFrame(results)"
   ]
  },
  {
   "cell_type": "code",                                                          
   "execution_count": null,
   "metadata": {},
   "outputs": [],
   "source": [
    "# Print DF\n",
    "\n",
    "df"
   ]
  },
  {
   "cell_type": "code",
   "execution_count": null,
   "metadata": {},
   "outputs": [],
   "source": [
    "# Check for Duplicates- New Totals 1888, 249\n",
    "\n",
    "df.drop_duplicates(subset=['Mouse ID'], keep='first')\n",
    "df1.drop_duplicates(subset=['Mouse ID', 'Timepoint'], keep='first')"
   ]
  },
  {
   "cell_type": "code",
   "execution_count": null,
   "metadata": {},
   "outputs": [],
   "source": [
    "# Merge and Remove Duplicates\n",
    "full_df = pd.concat([df,df1])\n",
    "unique_df = full_df.drop_duplicates(keep='last')"
   ]
  },
  {
   "cell_type": "code",
   "execution_count": null,
   "metadata": {},
   "outputs": [],
   "source": [
    "# Save DataFrame as CSV\n",
    "unique_df.to_csv('MM2')"
   ]
  },
  {
   "cell_type": "code",
   "execution_count": null,
   "metadata": {},
   "outputs": [],
   "source": []
  }
 ],
 "metadata": {
  "kernelspec": {
   "display_name": "Python 3",
   "language": "python",
   "name": "python3"
  },
  "language_info": {
   "codemirror_mode": {
    "name": "ipython",
    "version": 3
   },
   "file_extension": ".py",
   "mimetype": "text/x-python",
   "name": "python",
   "nbconvert_exporter": "python",
   "pygments_lexer": "ipython3",
   "version": "3.8.5"
  }
 },
 "nbformat": 4,
 "nbformat_minor": 4
}
